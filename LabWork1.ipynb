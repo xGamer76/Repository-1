{
  "nbformat": 4,
  "nbformat_minor": 0,
  "metadata": {
    "colab": {
      "provenance": [],
      "include_colab_link": true
    },
    "kernelspec": {
      "name": "python3",
      "display_name": "Python 3"
    },
    "language_info": {
      "name": "python"
    }
  },
  "cells": [
    {
      "cell_type": "markdown",
      "metadata": {
        "id": "view-in-github",
        "colab_type": "text"
      },
      "source": [
        "<a href=\"https://colab.research.google.com/github/xGamer76/Repository-1/blob/main/LabWork1.ipynb\" target=\"_parent\"><img src=\"https://colab.research.google.com/assets/colab-badge.svg\" alt=\"Open In Colab\"/></a>"
      ]
    },
    {
      "cell_type": "markdown",
      "source": [
        "# kriper2004\n",
        "\n",
        "Ютуб-канал отцов русской постиронии\n",
        "\n",
        "*Состав:*\n",
        "- Артём Пузо (крипер)\n",
        "- Влад Кунякин (убийца крови 2003)\n",
        "\n",
        "![](https://yt3.googleusercontent.com/ytc/AIdro_nZoIKNorc_H0VVZ4ZN2X1MHU9kCFeNaCWPZTEyhQ=s176-c-k-c0x00ffffff-no-rj)\n",
        "\n",
        "|достоинства|недостатки|\n",
        "|-|-|\n",
        "|смешной канал|нет|\n",
        "\n",
        "[Сам канал](https://www.youtube.com/@kriper2004)\n",
        "123"
      ],
      "metadata": {
        "id": "7fIIT34FUary"
      }
    }
  ]
}